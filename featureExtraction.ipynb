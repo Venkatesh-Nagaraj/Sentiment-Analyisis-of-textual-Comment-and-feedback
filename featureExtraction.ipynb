{
 "cells": [
  {
   "cell_type": "code",
   "execution_count": null,
   "metadata": {
    "executionInfo": {
     "elapsed": 3071,
     "status": "ok",
     "timestamp": 1685436279330,
     "user": {
      "displayName": "venkat nagaraj",
      "userId": "13125893968503616482"
     },
     "user_tz": -330
    },
    "id": "E-jUBqVc2XNB"
   },
   "outputs": [],
   "source": [
    "import numpy as np\n",
    "import pandas as pd\n",
    "import matplotlib.pyplot as plt\n",
    "from sklearn.model_selection import train_test_split\n",
    "from sklearn.preprocessing import LabelEncoder\n",
    "# Deep LEarning\n",
    "import tensorflow as tf\n",
    "from tensorflow.keras.layers import Embedding, LSTM\n",
    "from tensorflow.keras.layers.experimental.preprocessing import TextVectorization\n",
    "from tensorflow.keras.models import Sequential\n",
    "from tensorflow.keras.optimizers import Adam\n",
    "from keras.preprocessing.text import Tokenizer\n",
    "from tensorflow.keras.preprocessing.sequence import pad_sequences\n",
    "from keras.layers.core import Activation, Dropout, Dense, Masking\n",
    "from keras.layers import Flatten\n",
    "from keras.layers import GlobalMaxPooling1D"
   ]
  },
  {
   "cell_type": "code",
   "execution_count": null,
   "metadata": {
    "colab": {
     "base_uri": "https://localhost:8080/",
     "height": 424
    },
    "executionInfo": {
     "elapsed": 16689,
     "status": "ok",
     "timestamp": 1685436301392,
     "user": {
      "displayName": "venkat nagaraj",
      "userId": "13125893968503616482"
     },
     "user_tz": -330
    },
    "id": "FhY27NpKK5QL",
    "outputId": "7db0d1f4-7d3a-4204-f6aa-941d917809c9"
   },
   "outputs": [],
   "source": [
    "#load the dataset\n",
    "#dataset1_path = '/content/drive/MyDrive/Colab Notebooks/players_tweet_preprocessed_data (1).csv'\n",
    "#dataset2_path = '/content/drive/MyDrive/Colab Notebooks/preprocessed_airlines_data.csv'\n",
    "\n",
    "tweet_airline_sentiment = pd.read_csv('preprocessed_airlines_data.csv')\n",
    "tweet_player_sentiment = pd.read_csv('players_preprocessed_data.csv')"
   ]
  },
  {
   "cell_type": "code",
   "execution_count": 4,
   "metadata": {},
   "outputs": [
    {
     "data": {
      "text/html": [
       "<div>\n",
       "<style scoped>\n",
       "    .dataframe tbody tr th:only-of-type {\n",
       "        vertical-align: middle;\n",
       "    }\n",
       "\n",
       "    .dataframe tbody tr th {\n",
       "        vertical-align: top;\n",
       "    }\n",
       "\n",
       "    .dataframe thead th {\n",
       "        text-align: right;\n",
       "    }\n",
       "</style>\n",
       "<table border=\"1\" class=\"dataframe\">\n",
       "  <thead>\n",
       "    <tr style=\"text-align: right;\">\n",
       "      <th></th>\n",
       "      <th>Unnamed: 0</th>\n",
       "      <th>tweet_text</th>\n",
       "      <th>sentiment</th>\n",
       "      <th>tokens</th>\n",
       "    </tr>\n",
       "  </thead>\n",
       "  <tbody>\n",
       "    <tr>\n",
       "      <th>0</th>\n",
       "      <td>8</td>\n",
       "      <td>fantastic signing worth every single penny</td>\n",
       "      <td>positive</td>\n",
       "      <td>['fantastic', 'signing', 'worth', 'every', 'si...</td>\n",
       "    </tr>\n",
       "    <tr>\n",
       "      <th>1</th>\n",
       "      <td>9</td>\n",
       "      <td>need keep get compliment</td>\n",
       "      <td>neutral</td>\n",
       "      <td>['need', 'keep', 'get', 'compliment']</td>\n",
       "    </tr>\n",
       "    <tr>\n",
       "      <th>2</th>\n",
       "      <td>13</td>\n",
       "      <td>absolute wanker human hope goid night hahahaha...</td>\n",
       "      <td>negative</td>\n",
       "      <td>['absolute', 'wanker', 'human', 'hope', 'goid'...</td>\n",
       "    </tr>\n",
       "    <tr>\n",
       "      <th>3</th>\n",
       "      <td>16</td>\n",
       "      <td>absolute world class performance vote tap vote</td>\n",
       "      <td>positive</td>\n",
       "      <td>['absolute', 'world', 'class', 'performance', ...</td>\n",
       "    </tr>\n",
       "    <tr>\n",
       "      <th>4</th>\n",
       "      <td>17</td>\n",
       "      <td>congratulation signing expensive goalkeeper br...</td>\n",
       "      <td>positive</td>\n",
       "      <td>['congratulation', 'signing', 'expensive', 'go...</td>\n",
       "    </tr>\n",
       "    <tr>\n",
       "      <th>...</th>\n",
       "      <td>...</td>\n",
       "      <td>...</td>\n",
       "      <td>...</td>\n",
       "      <td>...</td>\n",
       "    </tr>\n",
       "    <tr>\n",
       "      <th>718685</th>\n",
       "      <td>1931324</td>\n",
       "      <td>sleep well ’ worry cuz ur team fucking shit</td>\n",
       "      <td>negative</td>\n",
       "      <td>['sleep', 'well', '’', 'worry', 'cuz', 'ur', '...</td>\n",
       "    </tr>\n",
       "    <tr>\n",
       "      <th>718686</th>\n",
       "      <td>1931329</td>\n",
       "      <td>left ethan home ´ 18 yet</td>\n",
       "      <td>neutral</td>\n",
       "      <td>['left', 'ethan', 'home', '´', '18', 'yet']</td>\n",
       "    </tr>\n",
       "    <tr>\n",
       "      <th>718687</th>\n",
       "      <td>1931330</td>\n",
       "      <td>google daniel “ twitch ” franco jayz</td>\n",
       "      <td>neutral</td>\n",
       "      <td>['google', 'daniel', '“', 'twitch', '”', 'fran...</td>\n",
       "    </tr>\n",
       "    <tr>\n",
       "      <th>718688</th>\n",
       "      <td>1931331</td>\n",
       "      <td>mum pig asshole</td>\n",
       "      <td>negative</td>\n",
       "      <td>['mum', 'pig', 'asshole']</td>\n",
       "    </tr>\n",
       "    <tr>\n",
       "      <th>718689</th>\n",
       "      <td>1931335</td>\n",
       "      <td>alli ’ bizarre sub ’</td>\n",
       "      <td>neutral</td>\n",
       "      <td>['alli', '’', 'bizarre', 'sub', '’']</td>\n",
       "    </tr>\n",
       "  </tbody>\n",
       "</table>\n",
       "<p>718690 rows × 4 columns</p>\n",
       "</div>"
      ],
      "text/plain": [
       "        Unnamed: 0                                         tweet_text  \\\n",
       "0                8         fantastic signing worth every single penny   \n",
       "1                9                           need keep get compliment   \n",
       "2               13  absolute wanker human hope goid night hahahaha...   \n",
       "3               16     absolute world class performance vote tap vote   \n",
       "4               17  congratulation signing expensive goalkeeper br...   \n",
       "...            ...                                                ...   \n",
       "718685     1931324        sleep well ’ worry cuz ur team fucking shit   \n",
       "718686     1931329                           left ethan home ´ 18 yet   \n",
       "718687     1931330               google daniel “ twitch ” franco jayz   \n",
       "718688     1931331                                    mum pig asshole   \n",
       "718689     1931335                               alli ’ bizarre sub ’   \n",
       "\n",
       "       sentiment                                             tokens  \n",
       "0       positive  ['fantastic', 'signing', 'worth', 'every', 'si...  \n",
       "1        neutral              ['need', 'keep', 'get', 'compliment']  \n",
       "2       negative  ['absolute', 'wanker', 'human', 'hope', 'goid'...  \n",
       "3       positive  ['absolute', 'world', 'class', 'performance', ...  \n",
       "4       positive  ['congratulation', 'signing', 'expensive', 'go...  \n",
       "...          ...                                                ...  \n",
       "718685  negative  ['sleep', 'well', '’', 'worry', 'cuz', 'ur', '...  \n",
       "718686   neutral        ['left', 'ethan', 'home', '´', '18', 'yet']  \n",
       "718687   neutral  ['google', 'daniel', '“', 'twitch', '”', 'fran...  \n",
       "718688  negative                          ['mum', 'pig', 'asshole']  \n",
       "718689   neutral               ['alli', '’', 'bizarre', 'sub', '’']  \n",
       "\n",
       "[718690 rows x 4 columns]"
      ]
     },
     "execution_count": 4,
     "metadata": {},
     "output_type": "execute_result"
    }
   ],
   "source": [
    "tweet_player_sentiment"
   ]
  },
  {
   "cell_type": "code",
   "execution_count": 5,
   "metadata": {},
   "outputs": [],
   "source": [
    "# Change the column names\n",
    "new_column_names = ['Unnamed: 0','text', 'airline_sentiment','tokens']\n",
    "tweet_player_sentiment.columns = new_column_names\n",
    "\n",
    "# Append dataset 10-14 to dataset 1-10\n",
    "sentiment_data = tweet_airline_sentiment.append(tweet_player_sentiment)\n",
    "\n",
    "# Optional: Reset the index of the merged dataset\n",
    "sentiment_data = sentiment_data.reset_index(drop=True)\n",
    "\n",
    "# Rename a single column\n",
    "sentiment_data.rename(columns={'airline_sentiment': 'sentiment'}, inplace=True)\n",
    "\n",
    "sentiment_data = sentiment_data.drop('Unnamed: 0', axis=1)"
   ]
  },
  {
   "cell_type": "code",
   "execution_count": 6,
   "metadata": {},
   "outputs": [
    {
     "data": {
      "text/plain": [
       "<AxesSubplot:xlabel='sentiment', ylabel='count'>"
      ]
     },
     "execution_count": 6,
     "metadata": {},
     "output_type": "execute_result"
    },
    {
     "data": {
      "image/png": "[encoded data removed]",
      "text/plain": [
       "<Figure size 640x480 with 1 Axes>"
      ]
     },
     "metadata": {},
     "output_type": "display_data"
    }
   ],
   "source": [
    "import seaborn as sns\n",
    "\n",
    "sns.countplot(x=sentiment_data['sentiment'], data=sentiment_data)"
   ]
  },
  {
   "cell_type": "code",
   "execution_count": 7,
   "metadata": {
    "colab": {
     "base_uri": "https://localhost:8080/",
     "height": 206
    },
    "executionInfo": {
     "elapsed": 93,
     "status": "ok",
     "timestamp": 1685436319282,
     "user": {
      "displayName": "venkat nagaraj",
      "userId": "13125893968503616482"
     },
     "user_tz": -330
    },
    "id": "uZXabUuSNDeD",
    "outputId": "e64c109f-c32d-4973-e1e7-0b2d58a130fa"
   },
   "outputs": [
    {
     "name": "stdout",
     "output_type": "stream",
     "text": [
      "<class 'pandas.core.frame.DataFrame'>\n",
      "RangeIndex: 733330 entries, 0 to 733329\n",
      "Data columns (total 3 columns):\n",
      " #   Column     Non-Null Count   Dtype \n",
      "---  ------     --------------   ----- \n",
      " 0   text       731077 non-null  object\n",
      " 1   sentiment  733330 non-null  object\n",
      " 2   tokens     733330 non-null  object\n",
      "dtypes: object(3)\n",
      "memory usage: 16.8+ MB\n"
     ]
    }
   ],
   "source": [
    "sentiment_data.info()"
   ]
  },
  {
   "cell_type": "code",
   "execution_count": 8,
   "metadata": {},
   "outputs": [],
   "source": [
    "train_X,test_X,train_y,test_y = train_test_split(sentiment_data['text'], sentiment_data['sentiment'], test_size=0.1, random_state=44)"
   ]
  },
  {
   "cell_type": "code",
   "execution_count": 9,
   "metadata": {
    "executionInfo": {
     "elapsed": 79,
     "status": "ok",
     "timestamp": 1685435903965,
     "user": {
      "displayName": "venkat nagaraj",
      "userId": "13125893968503616482"
     },
     "user_tz": -330
    },
    "id": "eybSJzNrXKKh"
   },
   "outputs": [],
   "source": [
    "# Encode the sentiment labels\n",
    "label_encoder = LabelEncoder()\n",
    "train_y = label_encoder.fit_transform(train_y)\n",
    "test_y  = label_encoder.fit_transform(test_y)"
   ]
  },
  {
   "cell_type": "code",
   "execution_count": 10,
   "metadata": {},
   "outputs": [],
   "source": [
    "tokenizer = Tokenizer()\n",
    "# Convert any float values to strings\n",
    "sentiment_data.text = sentiment_data.text.astype(str)\n",
    "tokenizer.fit_on_texts(sentiment_data.text)\n",
    "vocab_size = len(tokenizer.word_index) + 1"
   ]
  },
  {
   "cell_type": "code",
   "execution_count": null,
   "metadata": {},
   "outputs": [],
   "source": [
    "print(f\"Word index length: {len(tokenizer.word_index)}\")"
   ]
  },
  {
   "cell_type": "code",
   "execution_count": 12,
   "metadata": {},
   "outputs": [
    {
     "name": "stdout",
     "output_type": "stream",
     "text": [
      "Maximum token length: 84\n"
     ]
    }
   ],
   "source": [
    "# Initialize the max length to the first tweet length\n",
    "max_length = len(sentiment_data[\"text\"].iloc[0].split())\n",
    "\n",
    "# Loop through the tweets\n",
    "for tweet in sentiment_data[\"text\"]:\n",
    "    # Get each tweet's length\n",
    "    length = len(tweet.split())\n",
    "    # Update the max length if greater\n",
    "    if length > max_length:\n",
    "        max_length = length\n",
    "\n",
    "print(f\"Maximum token length: {max_length}\")\n"
   ]
  },
  {
   "cell_type": "code",
   "execution_count": 13,
   "metadata": {},
   "outputs": [],
   "source": [
    "# Training set\n",
    "sequences_train = tokenizer.texts_to_sequences([str(text) for text in train_X])\n",
    "# Test set\n",
    "sequences_test = tokenizer.texts_to_sequences([str(text) for text in test_X])\n"
   ]
  },
  {
   "cell_type": "code",
   "execution_count": 14,
   "metadata": {},
   "outputs": [
    {
     "name": "stdout",
     "output_type": "stream",
     "text": [
      "Training test shape : (659997, 84)\n"
     ]
    }
   ],
   "source": [
    "# Pad the training sequences to the same length after the sequence\n",
    "train_X = pad_sequences(sequences_train, maxlen=max_length, padding=\"post\")\n",
    "# Pad the test sequences to the same length after the sequence\n",
    "test_X = pad_sequences(sequences_test, maxlen=max_length, padding=\"post\")\n",
    "\n",
    "# Setup the training target\n",
    "train_y = train_y\n",
    "# Setup the test target values\n",
    "test_y = test_y\n",
    "\n",
    "print(f\"Training test shape : {train_X.shape}\")"
   ]
  },
  {
   "cell_type": "code",
   "execution_count": 15,
   "metadata": {},
   "outputs": [],
   "source": [
    "embeddings_dictionary = dict()\n",
    "embedding_dimension = 100\n",
    "glove_file = open(\"word_embeddings.txt\")"
   ]
  },
  {
   "cell_type": "code",
   "execution_count": 16,
   "metadata": {},
   "outputs": [],
   "source": [
    "import codecs\n",
    "\n",
    "# Open the GloVe file with the correct encoding\n",
    "with codecs.open('word_embeddings.txt', 'r', encoding='utf-8') as glove_file:\n",
    "    # Iterate through the file\n",
    "    for line in glove_file:\n",
    "        # Split each line\n",
    "        records = line.split()\n",
    "        # Get the actual word\n",
    "        word = records[0]\n",
    "        # Get the dimensional representation\n",
    "        representation = np.asarray(records[1:], dtype=\"float32\")\n",
    "        # Update the words dictionary \n",
    "        embeddings_dictionary[word] = representation\n",
    "\n",
    "# Initialize the embedding_matrix\n",
    "embeddings_matrix = np.zeros((vocab_size, embedding_dimension))\n",
    "\n",
    "# Iterate through the tokenizer words list\n",
    "for word, index in tokenizer.word_index.items():\n",
    "    # Get the word representation\n",
    "    embedding_vector = embeddings_dictionary.get(word)\n",
    "    # Update the word representation if it exists in our dictionary\n",
    "    if embedding_vector is not None:\n",
    "        embeddings_matrix[index] = embedding_vector\n"
   ]
  }
 ],
 "metadata": {
  "colab": {
   "authorship_tag": "ABX9TyMrwAGpPY1V8gqgzpcO/dKJ",
   "mount_file_id": "1XdWRmdo2ZRdW0sPxqnbTxydUzszm2ONh",
   "provenance": []
  },
  "kernelspec": {
   "display_name": "Python 3 (ipykernel)",
   "language": "python",
   "name": "python3"
  },
  "language_info": {
   "codemirror_mode": {
    "name": "ipython",
    "version": 3
   },
   "file_extension": ".py",
   "mimetype": "text/x-python",
   "name": "python",
   "nbconvert_exporter": "python",
   "pygments_lexer": "ipython3",
   "version": "3.7.8"
  }
 },
 "nbformat": 4,
 "nbformat_minor": 1
}
